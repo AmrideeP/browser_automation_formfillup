{
 "cells": [
  {
   "cell_type": "code",
   "execution_count": 5,
   "metadata": {},
   "outputs": [],
   "source": [
    "from selenium import webdriver"
   ]
  },
  {
   "cell_type": "code",
   "execution_count": 6,
   "metadata": {},
   "outputs": [],
   "source": [
    "a=str('C:\\\\Users\\Amrideep\\Downloads\\chromedriver_win32\\chdriver')"
   ]
  },
  {
   "cell_type": "code",
   "execution_count": 7,
   "metadata": {},
   "outputs": [
    {
     "name": "stdout",
     "output_type": "stream",
     "text": [
      "C:\\Users\\Amrideep\\Downloads\\chromedriver_win32\\chdriver\n"
     ]
    }
   ],
   "source": [
    "print(a)"
   ]
  },
  {
   "cell_type": "code",
   "execution_count": 29,
   "metadata": {},
   "outputs": [
    {
     "name": "stdout",
     "output_type": "stream",
     "text": [
      "usr1rajukunata23gmail.com\n"
     ]
    }
   ],
   "source": [
    "email_org='rajukunata23@gmail.com'\n",
    "pass_org='helloworld123'\n",
    "user='usr1'+email_org\n",
    "user=list(user)\n",
    "user.remove('@')\n",
    "user=\"\".join(user)\n",
    "print(user)"
   ]
  },
  {
   "cell_type": "code",
   "execution_count": 9,
   "metadata": {},
   "outputs": [],
   "source": [
    "browser=webdriver.Chrome(a)"
   ]
  },
  {
   "cell_type": "code",
   "execution_count": 10,
   "metadata": {},
   "outputs": [],
   "source": [
    "browser.get('https://spie.org/account/login?redir=%3fSSO%3d1&SSO=1')"
   ]
  },
  {
   "cell_type": "code",
   "execution_count": 11,
   "metadata": {},
   "outputs": [],
   "source": [
    "enem=browser.find_element_by_id(\"lnkAccountCreate\")"
   ]
  },
  {
   "cell_type": "code",
   "execution_count": 12,
   "metadata": {},
   "outputs": [],
   "source": [
    "enem.click()"
   ]
  },
  {
   "cell_type": "code",
   "execution_count": 13,
   "metadata": {},
   "outputs": [],
   "source": [
    "el = browser.find_element_by_id('Prefix')\n",
    "for option in browser.find_elements_by_tag_name('option'):\n",
    "    if option.text == 'Mr.':\n",
    "        option.click() # select() in earlier versions of webdriver\n",
    "        break"
   ]
  },
  {
   "cell_type": "code",
   "execution_count": 14,
   "metadata": {},
   "outputs": [],
   "source": [
    "first_name=browser.find_element_by_id('Firstname')\n",
    "first_name.send_keys('Rammohan')"
   ]
  },
  {
   "cell_type": "code",
   "execution_count": 15,
   "metadata": {},
   "outputs": [],
   "source": [
    "last_name=browser.find_element_by_id('Lastname')\n",
    "last_name.send_keys('Bosu')"
   ]
  },
  {
   "cell_type": "code",
   "execution_count": 16,
   "metadata": {},
   "outputs": [],
   "source": [
    "email_id=browser.find_element_by_id('Email')\n",
    "email_id.send_keys(email_org)"
   ]
  },
  {
   "cell_type": "code",
   "execution_count": 31,
   "metadata": {},
   "outputs": [],
   "source": [
    "username=browser.find_element_by_id('NewUsername')\n",
    "username.send_keys(user)"
   ]
  },
  {
   "cell_type": "code",
   "execution_count": 18,
   "metadata": {},
   "outputs": [],
   "source": [
    "password=browser.find_element_by_id('NewPassword')\n",
    "password.send_keys(pass_org)"
   ]
  },
  {
   "cell_type": "code",
   "execution_count": 19,
   "metadata": {},
   "outputs": [],
   "source": [
    "adl = browser.find_element_by_id('AddressType')\n",
    "for option in browser.find_elements_by_tag_name('option'):\n",
    "    if option.text == 'Home':\n",
    "        option.click() # select() in earlier versions of webdriver\n",
    "        break"
   ]
  },
  {
   "cell_type": "code",
   "execution_count": 20,
   "metadata": {},
   "outputs": [],
   "source": [
    "streetaddress=browser.find_element_by_id('StreetAddress')\n",
    "streetaddress.send_keys('raji pukur')\n"
   ]
  },
  {
   "cell_type": "code",
   "execution_count": 21,
   "metadata": {},
   "outputs": [],
   "source": [
    "city=browser.find_element_by_id('City')\n",
    "city.send_keys('kolkata')"
   ]
  },
  {
   "cell_type": "code",
   "execution_count": 22,
   "metadata": {},
   "outputs": [],
   "source": [
    "con = browser.find_element_by_id('Country')\n",
    "for option in browser.find_elements_by_tag_name('option'):\n",
    "    if option.text == 'India':\n",
    "        option.click() # select() in earlier versions of webdriver\n",
    "        break"
   ]
  },
  {
   "cell_type": "code",
   "execution_count": 23,
   "metadata": {},
   "outputs": [],
   "source": [
    "zip=browser.find_element_by_id('PostalCode')\n",
    "zip.send_keys('7121211')"
   ]
  },
  {
   "cell_type": "code",
   "execution_count": 32,
   "metadata": {},
   "outputs": [],
   "source": [
    "browser.find_element_by_id('lnkAccountCreate').click()"
   ]
  },
  {
   "cell_type": "code",
   "execution_count": 33,
   "metadata": {},
   "outputs": [],
   "source": [
    "browser.find_element_by_id('divPopupSubmitAddressButton').click()"
   ]
  },
  {
   "cell_type": "code",
   "execution_count": 34,
   "metadata": {},
   "outputs": [],
   "source": [
    "#Page 2"
   ]
  },
  {
   "cell_type": "code",
   "execution_count": 35,
   "metadata": {},
   "outputs": [],
   "source": [
    "browser.find_element_by_id('NewsMonthlyTrue').click()"
   ]
  },
  {
   "cell_type": "code",
   "execution_count": 36,
   "metadata": {},
   "outputs": [],
   "source": [
    "browser.find_element_by_id('InterestAreaFalse').click()"
   ]
  },
  {
   "cell_type": "code",
   "execution_count": 37,
   "metadata": {},
   "outputs": [],
   "source": [
    "job = browser.find_element_by_id('PrimaryJobFunction')\n",
    "for option in browser.find_elements_by_tag_name('option'):\n",
    "    if option.text == 'Student':\n",
    "        option.click() # select() in earlier versions of webdriver\n",
    "        break"
   ]
  },
  {
   "cell_type": "code",
   "execution_count": 38,
   "metadata": {},
   "outputs": [],
   "source": [
    "job = browser.find_element_by_id('PrimaryResearchApplication')\n",
    "for option in browser.find_elements_by_tag_name('option'):\n",
    "    if option.text == 'Consumer Electronics':\n",
    "        option.click() # select() in earlier versions of webdriver\n",
    "        break"
   ]
  },
  {
   "cell_type": "code",
   "execution_count": 39,
   "metadata": {},
   "outputs": [],
   "source": [
    "job = browser.find_element_by_id('GraduationMonth')\n",
    "for option in browser.find_elements_by_tag_name('option'):\n",
    "    if option.text == 'July':\n",
    "        option.click() # select() in earlier versions of webdriver\n",
    "        break"
   ]
  },
  {
   "cell_type": "code",
   "execution_count": 40,
   "metadata": {},
   "outputs": [],
   "source": [
    "browser.find_element_by_id('GraduationYear').send_keys('\\b\\b\\b\\b2020')"
   ]
  },
  {
   "cell_type": "code",
   "execution_count": 41,
   "metadata": {},
   "outputs": [],
   "source": [
    "browser.find_element_by_id(\"privacyPolicyCheckBox\").click()"
   ]
  },
  {
   "cell_type": "code",
   "execution_count": 42,
   "metadata": {},
   "outputs": [],
   "source": [
    "browser.find_element_by_id(\"lnkCreateAccount\").click()"
   ]
  },
  {
   "cell_type": "code",
   "execution_count": 45,
   "metadata": {},
   "outputs": [],
   "source": [
    "browser.find_element_by_class_name('formText01').click()"
   ]
  },
  {
   "cell_type": "code",
   "execution_count": 46,
   "metadata": {},
   "outputs": [],
   "source": [
    "#page3"
   ]
  },
  {
   "cell_type": "code",
   "execution_count": 47,
   "metadata": {},
   "outputs": [],
   "source": [
    "browser.find_element_by_class_name('item-membership').click()"
   ]
  },
  {
   "cell_type": "code",
   "execution_count": 48,
   "metadata": {},
   "outputs": [],
   "source": [
    "browser.find_element_by_class_name('boxImgHolder').click()"
   ]
  },
  {
   "cell_type": "code",
   "execution_count": 49,
   "metadata": {},
   "outputs": [],
   "source": [
    "state=browser.find_element_by_id(\"State\")\n",
    "for option in browser.find_elements_by_tag_name('option'):\n",
    "    if option.text == 'West Bengal':\n",
    "        option.click() # select() in earlier versions of webdriver\n",
    "        break"
   ]
  },
  {
   "cell_type": "code",
   "execution_count": 51,
   "metadata": {},
   "outputs": [],
   "source": [
    "browser.find_element_by_id(\"Phone\").send_keys('9878281982')"
   ]
  },
  {
   "cell_type": "code",
   "execution_count": 52,
   "metadata": {},
   "outputs": [],
   "source": [
    "browser.find_element_by_id(\"submit-button\").click()"
   ]
  },
  {
   "cell_type": "code",
   "execution_count": 54,
   "metadata": {},
   "outputs": [],
   "source": [
    "browser.find_element_by_id(\"divPopupSubmitAddressButton\").click()"
   ]
  },
  {
   "cell_type": "code",
   "execution_count": 55,
   "metadata": {},
   "outputs": [],
   "source": [
    "browser.find_element_by_id(\"MembershipChoice416288b6-314c-e611-810b-005056be4d05_5\").click()"
   ]
  },
  {
   "cell_type": "code",
   "execution_count": 56,
   "metadata": {},
   "outputs": [],
   "source": [
    "gradmonth = browser.find_element_by_id('StudentMonth3d0484bc-314c-e611-810b-005056be4d05.8')\n",
    "for option in browser.find_elements_by_tag_name('option'):\n",
    "    if option.text == 'July':\n",
    "        option.click() # select() in earlier versions of webdriver\n",
    "        break"
   ]
  },
  {
   "cell_type": "code",
   "execution_count": 58,
   "metadata": {},
   "outputs": [],
   "source": [
    "gradyear = browser.find_element_by_id('StudentYear3d0484bc-314c-e611-810b-005056be4d05.8')\n",
    "for option in browser.find_elements_by_tag_name('option'):\n",
    "    if option.text == '2020':\n",
    "        option.click() # select() in earlier versions of webdriver\n",
    "        break"
   ]
  },
  {
   "cell_type": "code",
   "execution_count": 60,
   "metadata": {},
   "outputs": [],
   "source": [
    "country = browser.find_element_by_id('StudentChapterCountry')\n",
    "for option in browser.find_elements_by_tag_name('option'):\n",
    "    if option.text == 'India':\n",
    "        option.click() # select() in earlier versions of webdriver\n",
    "        break"
   ]
  },
  {
   "cell_type": "code",
   "execution_count": 72,
   "metadata": {},
   "outputs": [],
   "source": [
    "stud_chap = browser.find_element_by_id('StudentChapter')\n",
    "for option in browser.find_elements_by_tag_name('option'):\n",
    "    if option.text == \"B.P. Poddar Institute of Management &amp; Technology Chapter\":\n",
    "        option.click() # select() in earlier versions of webdriver\n",
    "        break"
   ]
  },
  {
   "cell_type": "code",
   "execution_count": 73,
   "metadata": {},
   "outputs": [],
   "source": [
    "browser.find_element_by_id(\"submit-button\").click()"
   ]
  },
  {
   "cell_type": "code",
   "execution_count": 74,
   "metadata": {},
   "outputs": [],
   "source": [
    "browser.find_element_by_id(\"JournalChoiceJBO\").click()"
   ]
  },
  {
   "cell_type": "code",
   "execution_count": 75,
   "metadata": {},
   "outputs": [],
   "source": [
    "browser.find_element_by_id(\"submit-button\").click()"
   ]
  },
  {
   "cell_type": "code",
   "execution_count": 76,
   "metadata": {},
   "outputs": [],
   "source": [
    "browser.find_element_by_id(\"NewsMonthlyTrue\").click()"
   ]
  },
  {
   "cell_type": "code",
   "execution_count": 78,
   "metadata": {},
   "outputs": [],
   "source": [
    "browser.find_element_by_id(\"InterestAreaFalse\").click()"
   ]
  },
  {
   "cell_type": "code",
   "execution_count": 79,
   "metadata": {},
   "outputs": [],
   "source": [
    "browser.find_element_by_id(\"xDemo0\").click()"
   ]
  },
  {
   "cell_type": "code",
   "execution_count": 80,
   "metadata": {},
   "outputs": [],
   "source": [
    "browser.find_element_by_id(\"submit-button\").click()"
   ]
  },
  {
   "cell_type": "code",
   "execution_count": null,
   "metadata": {},
   "outputs": [],
   "source": []
  }
 ],
 "metadata": {
  "kernelspec": {
   "display_name": "Python 3",
   "language": "python",
   "name": "python3"
  },
  "language_info": {
   "codemirror_mode": {
    "name": "ipython",
    "version": 3
   },
   "file_extension": ".py",
   "mimetype": "text/x-python",
   "name": "python",
   "nbconvert_exporter": "python",
   "pygments_lexer": "ipython3",
   "version": "3.7.3"
  }
 },
 "nbformat": 4,
 "nbformat_minor": 2
}
